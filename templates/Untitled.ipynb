{
 "cells": [
  {
   "cell_type": "code",
   "execution_count": 6,
   "id": "a4be951f-b089-48ed-bbd6-c0db1edd7769",
   "metadata": {},
   "outputs": [
    {
     "name": "stdout",
     "output_type": "stream",
     "text": [
      "MongoDB connection successful!\n",
      "Test insert successful!\n"
     ]
    }
   ],
   "source": [
    "from pymongo import MongoClient\n",
    "\n",
    "# Test connection\n",
    "client = MongoClient('mongodb://localhost:27017/')\n",
    "try:\n",
    "    client.admin.command('ismaster')\n",
    "    print(\"MongoDB connection successful!\")\n",
    "    \n",
    "    # Test our specific database and collection\n",
    "    db = client['twitter_trends']\n",
    "    collection = db['trends']\n",
    "    \n",
    "    # Try a test insert\n",
    "    test_insert = collection.insert_one({\"test\": \"test_connection\"})\n",
    "    print(\"Test insert successful!\")\n",
    "    \n",
    "    # Clean up the test document\n",
    "    collection.delete_one({\"test\": \"test_connection\"})\n",
    "except Exception as e:\n",
    "    print(\"MongoDB connection failed:\", e)"
   ]
  },
  {
   "cell_type": "code",
   "execution_count": 4,
   "id": "8e0f55ae-dcee-4d4d-8584-904b0dc84374",
   "metadata": {},
   "outputs": [
    {
     "name": "stdout",
     "output_type": "stream",
     "text": [
      "Collecting pymongo\n",
      "  Using cached pymongo-4.10.1-cp312-cp312-win_amd64.whl.metadata (22 kB)\n",
      "Collecting dnspython<3.0.0,>=1.16.0 (from pymongo)\n",
      "  Using cached dnspython-2.7.0-py3-none-any.whl.metadata (5.8 kB)\n",
      "Using cached pymongo-4.10.1-cp312-cp312-win_amd64.whl (926 kB)\n",
      "Using cached dnspython-2.7.0-py3-none-any.whl (313 kB)\n",
      "Installing collected packages: dnspython, pymongo\n",
      "Successfully installed dnspython-2.7.0 pymongo-4.10.1\n",
      "Note: you may need to restart the kernel to use updated packages.\n"
     ]
    },
    {
     "name": "stderr",
     "output_type": "stream",
     "text": [
      "\n",
      "[notice] A new release of pip is available: 24.2 -> 24.3.1\n",
      "[notice] To update, run: python.exe -m pip install --upgrade pip\n"
     ]
    }
   ],
   "source": [
    "pip install pymongo"
   ]
  },
  {
   "cell_type": "code",
   "execution_count": null,
   "id": "05443971-22f2-48ab-8d83-91bb0f698380",
   "metadata": {},
   "outputs": [],
   "source": []
  }
 ],
 "metadata": {
  "kernelspec": {
   "display_name": "Python 3 (ipykernel)",
   "language": "python",
   "name": "python3"
  },
  "language_info": {
   "codemirror_mode": {
    "name": "ipython",
    "version": 3
   },
   "file_extension": ".py",
   "mimetype": "text/x-python",
   "name": "python",
   "nbconvert_exporter": "python",
   "pygments_lexer": "ipython3",
   "version": "3.12.7"
  }
 },
 "nbformat": 4,
 "nbformat_minor": 5
}
